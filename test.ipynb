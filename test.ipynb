{
 "cells": [
  {
   "cell_type": "code",
   "execution_count": 15,
   "metadata": {},
   "outputs": [],
   "source": [
    "# Import Module \n",
    "from win32com import client \n",
    "  \n",
    "# Open Microsoft Excel \n",
    "excel = client.Dispatch(\"Excel.Application\") \n",
    "  \n",
    "# Read Excel File \n",
    "sheets = excel.Workbooks.Open('Excel File Path') \n",
    "work_sheets = sheets.Worksheets[0] \n",
    "  \n",
    "# Convert into PDF File \n",
    "work_sheets.ExportAsFixedFormat(0, 'PDF File Path') "
   ]
  },
  {
   "cell_type": "code",
   "execution_count": 16,
   "metadata": {},
   "outputs": [],
   "source": []
  },
  {
   "cell_type": "code",
   "execution_count": 17,
   "metadata": {},
   "outputs": [],
   "source": []
  },
  {
   "cell_type": "code",
   "execution_count": null,
   "metadata": {},
   "outputs": [],
   "source": []
  }
 ],
 "metadata": {
  "kernelspec": {
   "display_name": ".venv",
   "language": "python",
   "name": "python3"
  },
  "language_info": {
   "codemirror_mode": {
    "name": "ipython",
    "version": 3
   },
   "file_extension": ".py",
   "mimetype": "text/x-python",
   "name": "python",
   "nbconvert_exporter": "python",
   "pygments_lexer": "ipython3",
   "version": "3.10.11"
  }
 },
 "nbformat": 4,
 "nbformat_minor": 2
}
