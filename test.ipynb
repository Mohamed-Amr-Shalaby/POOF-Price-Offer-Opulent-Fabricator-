{
 "cells": [
  {
   "cell_type": "code",
   "execution_count": 15,
   "metadata": {},
   "outputs": [],
   "source": [
    "import qrcode\n",
    "from qrcode.image.styledpil import StyledPilImage\n",
    "from qrcode.image.styles.moduledrawers.pil import RoundedModuleDrawer\n",
    "from qrcode.image.styles.colormasks import RadialGradiantColorMask\n",
    "\n",
    "qr = qrcode.QRCode(error_correction=qrcode.constants.ERROR_CORRECT_L)\n",
    "qr.add_data('')\n",
    "\n",
    "img_1 = qr.make_image(image_factory=StyledPilImage, module_drawer=RoundedModuleDrawer(), embeded_image_path=\"logo-multimedica-sco.jpg\")"
   ]
  },
  {
   "cell_type": "code",
   "execution_count": 16,
   "metadata": {},
   "outputs": [],
   "source": [
    "img_1.save('qr_1.png')\n"
   ]
  },
  {
   "cell_type": "code",
   "execution_count": 17,
   "metadata": {},
   "outputs": [],
   "source": [
    "img_1 = qr.make_image(image_factory=StyledPilImage, module_drawer=RoundedModuleDrawer())\n",
    "img_1.save('qr_1.png')"
   ]
  },
  {
   "cell_type": "code",
   "execution_count": null,
   "metadata": {},
   "outputs": [],
   "source": []
  }
 ],
 "metadata": {
  "kernelspec": {
   "display_name": ".venv",
   "language": "python",
   "name": "python3"
  },
  "language_info": {
   "codemirror_mode": {
    "name": "ipython",
    "version": 3
   },
   "file_extension": ".py",
   "mimetype": "text/x-python",
   "name": "python",
   "nbconvert_exporter": "python",
   "pygments_lexer": "ipython3",
   "version": "3.10.11"
  }
 },
 "nbformat": 4,
 "nbformat_minor": 2
}
